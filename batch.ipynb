{
 "cells": [
  {
   "cell_type": "markdown",
   "metadata": {},
   "source": [
    "### Upload batch file"
   ]
  },
  {
   "cell_type": "code",
   "execution_count": 4,
   "metadata": {},
   "outputs": [
    {
     "name": "stdout",
     "output_type": "stream",
     "text": [
      "{\n",
      "  \"id\": \"file-4c9fad0c02e841e49f2471f1a848b6db\",\n",
      "  \"bytes\": 820,\n",
      "  \"created_at\": 1722950631,\n",
      "  \"filename\": \"batch.jsonl\",\n",
      "  \"object\": \"file\",\n",
      "  \"purpose\": \"batch\",\n",
      "  \"status\": \"pending\",\n",
      "  \"status_details\": null\n",
      "}\n"
     ]
    }
   ],
   "source": [
    "from dotenv import load_dotenv\n",
    "import os\n",
    "from openai import AzureOpenAI\n",
    "\n",
    "load_dotenv()\n",
    "\n",
    "client = AzureOpenAI(\n",
    "    api_key=os.getenv(\"AZURE_OPENAI_API_KEY\"),  \n",
    "    api_version=\"2024-07-01-preview\",\n",
    "    azure_endpoint = os.getenv(\"AZURE_OPENAI_API_ENDPOINT\")\n",
    "    )\n",
    "\n",
    "# Upload a file with a purpose of \"batch\"\n",
    "file = client.files.create(\n",
    "  file=open(\"batch.jsonl\", \"rb\"), \n",
    "  purpose=\"batch\"\n",
    ")\n",
    "\n",
    "print(file.model_dump_json(indent=2))\n",
    "file_id = file.id"
   ]
  },
  {
   "cell_type": "markdown",
   "metadata": {},
   "source": [
    "### Track file upload status"
   ]
  },
  {
   "cell_type": "code",
   "execution_count": 5,
   "metadata": {},
   "outputs": [
    {
     "name": "stdout",
     "output_type": "stream",
     "text": [
      "2024-08-06 14:24:18.219036 File Id: file-4c9fad0c02e841e49f2471f1a848b6db, Status: processed\n"
     ]
    }
   ],
   "source": [
    "# Wait until the uploaded file is in processed state\n",
    "import time\n",
    "import datetime \n",
    "\n",
    "status = \"pending\"\n",
    "while status != \"processed\":\n",
    "    time.sleep(15)\n",
    "    file_response = client.files.retrieve(file_id)\n",
    "    status = file_response.status\n",
    "    print(f\"{datetime.datetime.now()} File Id: {file_id}, Status: {status}\")"
   ]
  },
  {
   "cell_type": "markdown",
   "metadata": {},
   "source": [
    "### Create batch job"
   ]
  },
  {
   "cell_type": "code",
   "execution_count": 6,
   "metadata": {},
   "outputs": [
    {
     "name": "stdout",
     "output_type": "stream",
     "text": [
      "{\n",
      "  \"id\": \"batch_aa63aaa8-0308-47c8-8fe6-c155617023f9\",\n",
      "  \"completion_window\": \"24h\",\n",
      "  \"created_at\": 1722950663,\n",
      "  \"endpoint\": \"/chat/completions\",\n",
      "  \"input_file_id\": \"file-4c9fad0c02e841e49f2471f1a848b6db\",\n",
      "  \"object\": \"batch\",\n",
      "  \"status\": \"validating\",\n",
      "  \"cancelled_at\": null,\n",
      "  \"cancelling_at\": null,\n",
      "  \"completed_at\": null,\n",
      "  \"error_file_id\": null,\n",
      "  \"errors\": null,\n",
      "  \"expired_at\": null,\n",
      "  \"expires_at\": 1723037063,\n",
      "  \"failed_at\": null,\n",
      "  \"finalizing_at\": null,\n",
      "  \"in_progress_at\": null,\n",
      "  \"metadata\": null,\n",
      "  \"output_file_id\": null,\n",
      "  \"request_counts\": {\n",
      "    \"completed\": 0,\n",
      "    \"failed\": 0,\n",
      "    \"total\": 0\n",
      "  }\n",
      "}\n"
     ]
    }
   ],
   "source": [
    "# Submit a batch job with the file\n",
    "batch_response = client.batches.create(\n",
    "    input_file_id=file_id,\n",
    "    endpoint=\"/chat/completions\",\n",
    "    completion_window=\"24h\",\n",
    ")\n",
    "\n",
    "# Save batch ID for later use\n",
    "batch_id = batch_response.id\n",
    "\n",
    "print(batch_response.model_dump_json(indent=2))"
   ]
  },
  {
   "cell_type": "markdown",
   "metadata": {},
   "source": [
    "### Track batch job progress"
   ]
  },
  {
   "cell_type": "code",
   "execution_count": 7,
   "metadata": {},
   "outputs": [
    {
     "name": "stdout",
     "output_type": "stream",
     "text": [
      "2024-08-06 14:26:05.435185 Batch Id: batch_aa63aaa8-0308-47c8-8fe6-c155617023f9,  Status: validating\n",
      "2024-08-06 14:27:06.291753 Batch Id: batch_aa63aaa8-0308-47c8-8fe6-c155617023f9,  Status: validating\n",
      "2024-08-06 14:28:07.128467 Batch Id: batch_aa63aaa8-0308-47c8-8fe6-c155617023f9,  Status: in_progress\n",
      "2024-08-06 14:29:07.711255 Batch Id: batch_aa63aaa8-0308-47c8-8fe6-c155617023f9,  Status: in_progress\n",
      "2024-08-06 14:30:08.696466 Batch Id: batch_aa63aaa8-0308-47c8-8fe6-c155617023f9,  Status: in_progress\n",
      "2024-08-06 14:31:09.389244 Batch Id: batch_aa63aaa8-0308-47c8-8fe6-c155617023f9,  Status: in_progress\n",
      "2024-08-06 14:32:10.082145 Batch Id: batch_aa63aaa8-0308-47c8-8fe6-c155617023f9,  Status: in_progress\n",
      "2024-08-06 14:33:10.825973 Batch Id: batch_aa63aaa8-0308-47c8-8fe6-c155617023f9,  Status: in_progress\n",
      "2024-08-06 14:34:11.774643 Batch Id: batch_aa63aaa8-0308-47c8-8fe6-c155617023f9,  Status: finalizing\n",
      "2024-08-06 14:35:12.393370 Batch Id: batch_aa63aaa8-0308-47c8-8fe6-c155617023f9,  Status: finalizing\n",
      "2024-08-06 14:36:12.951047 Batch Id: batch_aa63aaa8-0308-47c8-8fe6-c155617023f9,  Status: finalizing\n",
      "2024-08-06 14:37:13.818776 Batch Id: batch_aa63aaa8-0308-47c8-8fe6-c155617023f9,  Status: completed\n"
     ]
    }
   ],
   "source": [
    "import time\n",
    "import datetime \n",
    "\n",
    "status = \"validating\"\n",
    "while status not in (\"completed\", \"failed\", \"canceled\"):\n",
    "    time.sleep(60)\n",
    "    batch_response = client.batches.retrieve(batch_id)\n",
    "    status = batch_response.status\n",
    "    print(f\"{datetime.datetime.now()} Batch Id: {batch_id},  Status: {status}\")"
   ]
  },
  {
   "cell_type": "markdown",
   "metadata": {},
   "source": [
    "#### Examine job status details"
   ]
  },
  {
   "cell_type": "code",
   "execution_count": 9,
   "metadata": {},
   "outputs": [
    {
     "name": "stdout",
     "output_type": "stream",
     "text": [
      "{\n",
      "  \"id\": \"batch_aa63aaa8-0308-47c8-8fe6-c155617023f9\",\n",
      "  \"completion_window\": \"24h\",\n",
      "  \"created_at\": 1722950663,\n",
      "  \"endpoint\": \"/chat/completions\",\n",
      "  \"input_file_id\": \"file-4c9fad0c02e841e49f2471f1a848b6db\",\n",
      "  \"object\": \"batch\",\n",
      "  \"status\": \"completed\",\n",
      "  \"cancelled_at\": null,\n",
      "  \"cancelling_at\": null,\n",
      "  \"completed_at\": 1722951376,\n",
      "  \"error_file_id\": \"file-8ba1cd8e-fca5-41f0-9cc9-264d3ce28fac\",\n",
      "  \"errors\": null,\n",
      "  \"expired_at\": null,\n",
      "  \"expires_at\": 1723037063,\n",
      "  \"failed_at\": null,\n",
      "  \"finalizing_at\": 1722951218,\n",
      "  \"in_progress_at\": 1722950862,\n",
      "  \"metadata\": null,\n",
      "  \"output_file_id\": \"file-05d6a16c-612a-426b-9370-785f37ed7716\",\n",
      "  \"request_counts\": {\n",
      "    \"completed\": 3,\n",
      "    \"failed\": 0,\n",
      "    \"total\": 3\n",
      "  }\n",
      "}\n"
     ]
    }
   ],
   "source": [
    "print(batch_response.model_dump_json(indent=2))"
   ]
  },
  {
   "cell_type": "markdown",
   "metadata": {},
   "source": [
    "### Retrieve batch job output file"
   ]
  },
  {
   "cell_type": "code",
   "execution_count": 11,
   "metadata": {},
   "outputs": [
    {
     "name": "stdout",
     "output_type": "stream",
     "text": [
      "{\n",
      "  \"custom_id\": \"task-1\",\n",
      "  \"response\": {\n",
      "    \"body\": {\n",
      "      \"choices\": [\n",
      "        {\n",
      "          \"content_filter_results\": {\n",
      "            \"hate\": {\n",
      "              \"filtered\": false,\n",
      "              \"severity\": \"safe\"\n",
      "            },\n",
      "            \"protected_material_code\": {\n",
      "              \"filtered\": false,\n",
      "              \"detected\": false\n",
      "            },\n",
      "            \"protected_material_text\": {\n",
      "              \"filtered\": false,\n",
      "              \"detected\": false\n",
      "            },\n",
      "            \"self_harm\": {\n",
      "              \"filtered\": false,\n",
      "              \"severity\": \"safe\"\n",
      "            },\n",
      "            \"sexual\": {\n",
      "              \"filtered\": false,\n",
      "              \"severity\": \"safe\"\n",
      "            },\n",
      "            \"violence\": {\n",
      "              \"filtered\": false,\n",
      "              \"severity\": \"safe\"\n",
      "            }\n",
      "          },\n",
      "          \"finish_reason\": \"stop\",\n",
      "          \"index\": 0,\n",
      "          \"logprobs\": null,\n",
      "          \"message\": {\n",
      "            \"content\": \"The first Xbox was released on November 15, 2001.\",\n",
      "            \"role\": \"assistant\"\n",
      "          }\n",
      "        }\n",
      "      ],\n",
      "      \"created\": 1722950957,\n",
      "      \"id\": \"chatcmpl-9tEXV4bVrdCrCnM1DNQuG3vJTRWW3\",\n",
      "      \"model\": \"gpt-4o-2024-05-13\",\n",
      "      \"object\": \"chat.completion\",\n",
      "      \"prompt_filter_results\": [\n",
      "        {\n",
      "          \"prompt_index\": 0,\n",
      "          \"content_filter_results\": {\n",
      "            \"hate\": {\n",
      "              \"filtered\": false,\n",
      "              \"severity\": \"safe\"\n",
      "            },\n",
      "            \"jailbreak\": {\n",
      "              \"filtered\": false,\n",
      "              \"detected\": false\n",
      "            },\n",
      "            \"self_harm\": {\n",
      "              \"filtered\": false,\n",
      "              \"severity\": \"safe\"\n",
      "            },\n",
      "            \"sexual\": {\n",
      "              \"filtered\": false,\n",
      "              \"severity\": \"safe\"\n",
      "            },\n",
      "            \"violence\": {\n",
      "              \"filtered\": false,\n",
      "              \"severity\": \"safe\"\n",
      "            }\n",
      "          }\n",
      "        }\n",
      "      ],\n",
      "      \"system_fingerprint\": \"fp_f5a70d8dc9\",\n",
      "      \"usage\": {\n",
      "        \"completion_tokens\": 14,\n",
      "        \"prompt_tokens\": 30,\n",
      "        \"total_tokens\": 44\n",
      "      }\n",
      "    },\n",
      "    \"request_id\": \"98b91eed-d607-4885-9368-56ab316f3d47\",\n",
      "    \"status_code\": 200\n",
      "  },\n",
      "  \"error\": null\n",
      "}\n",
      "{\n",
      "  \"custom_id\": \"task-0\",\n",
      "  \"response\": {\n",
      "    \"body\": {\n",
      "      \"choices\": [\n",
      "        {\n",
      "          \"content_filter_results\": {\n",
      "            \"hate\": {\n",
      "              \"filtered\": false,\n",
      "              \"severity\": \"safe\"\n",
      "            },\n",
      "            \"self_harm\": {\n",
      "              \"filtered\": false,\n",
      "              \"severity\": \"safe\"\n",
      "            },\n",
      "            \"sexual\": {\n",
      "              \"filtered\": false,\n",
      "              \"severity\": \"safe\"\n",
      "            },\n",
      "            \"violence\": {\n",
      "              \"filtered\": false,\n",
      "              \"severity\": \"safe\"\n",
      "            }\n",
      "          },\n",
      "          \"finish_reason\": \"stop\",\n",
      "          \"index\": 0,\n",
      "          \"logprobs\": null,\n",
      "          \"message\": {\n",
      "            \"content\": \"Microsoft was founded on April 4, 1975, by Bill Gates and Paul Allen.\",\n",
      "            \"role\": \"assistant\"\n",
      "          }\n",
      "        }\n",
      "      ],\n",
      "      \"created\": 1722950957,\n",
      "      \"id\": \"chatcmpl-9tEXVfAdLhbFlcit2dHkxoJEuov5O\",\n",
      "      \"model\": \"gpt-4o-2024-05-13\",\n",
      "      \"object\": \"chat.completion\",\n",
      "      \"prompt_filter_results\": [\n",
      "        {\n",
      "          \"prompt_index\": 0,\n",
      "          \"content_filter_results\": {\n",
      "            \"hate\": {\n",
      "              \"filtered\": false,\n",
      "              \"severity\": \"safe\"\n",
      "            },\n",
      "            \"jailbreak\": {\n",
      "              \"filtered\": false,\n",
      "              \"detected\": false\n",
      "            },\n",
      "            \"self_harm\": {\n",
      "              \"filtered\": false,\n",
      "              \"severity\": \"safe\"\n",
      "            },\n",
      "            \"sexual\": {\n",
      "              \"filtered\": false,\n",
      "              \"severity\": \"safe\"\n",
      "            },\n",
      "            \"violence\": {\n",
      "              \"filtered\": false,\n",
      "              \"severity\": \"safe\"\n",
      "            }\n",
      "          }\n",
      "        }\n",
      "      ],\n",
      "      \"system_fingerprint\": \"fp_f5a70d8dc9\",\n",
      "      \"usage\": {\n",
      "        \"completion_tokens\": 19,\n",
      "        \"prompt_tokens\": 27,\n",
      "        \"total_tokens\": 46\n",
      "      }\n",
      "    },\n",
      "    \"request_id\": \"1e45828f-be9a-4dc0-8aec-8af9a1ee0921\",\n",
      "    \"status_code\": 200\n",
      "  },\n",
      "  \"error\": null\n",
      "}\n",
      "{\n",
      "  \"custom_id\": \"task-2\",\n",
      "  \"response\": {\n",
      "    \"body\": {\n",
      "      \"choices\": [\n",
      "        {\n",
      "          \"content_filter_results\": {\n",
      "            \"hate\": {\n",
      "              \"filtered\": false,\n",
      "              \"severity\": \"safe\"\n",
      "            },\n",
      "            \"protected_material_code\": {\n",
      "              \"filtered\": false,\n",
      "              \"detected\": false\n",
      "            },\n",
      "            \"protected_material_text\": {\n",
      "              \"filtered\": false,\n",
      "              \"detected\": false\n",
      "            },\n",
      "            \"self_harm\": {\n",
      "              \"filtered\": false,\n",
      "              \"severity\": \"safe\"\n",
      "            },\n",
      "            \"sexual\": {\n",
      "              \"filtered\": false,\n",
      "              \"severity\": \"safe\"\n",
      "            },\n",
      "            \"violence\": {\n",
      "              \"filtered\": false,\n",
      "              \"severity\": \"safe\"\n",
      "            }\n",
      "          },\n",
      "          \"finish_reason\": \"stop\",\n",
      "          \"index\": 0,\n",
      "          \"logprobs\": null,\n",
      "          \"message\": {\n",
      "            \"content\": \"Altair BASIC was an early interpreter for the BASIC programming language, designed to run on the MITS Altair 8800, one of the earliest personal computers. It was developed by Bill Gates and Paul Allen, the founders of Microsoft, then known as \\\"Micro-Soft.\\\" This product marked the beginning of Microsoft's long history with programming languages and software development.\\n\\nAltair BASIC was significant for several reasons:\\n1. **First Product by Microsoft**: It was Microsoft's first product, and its success helped establish the company as a major player in the software industry.\\n2. **Ease of Use**: BASIC (Beginners' All-purpose Symbolic Instruction Code) was designed to be easy for beginners to use, helping a broader audience learn programming.\\n3. **Widespread Adoption**: The availability of Altair BASIC contributed to the Altair 8800's popularity and the subsequent growth of the personal computing industry.\\n\\nThe first version of Altair BASIC was released in 1975 and loaded into the Altair 8800 using a paper tape reader. It helped lay the groundwork for the development of software industry standards and the proliferation of personal computing.\",\n",
      "            \"role\": \"assistant\"\n",
      "          }\n",
      "        }\n",
      "      ],\n",
      "      \"created\": 1722950957,\n",
      "      \"id\": \"chatcmpl-9tEXV1OwDMbqjC0tf3HSSPOsw0zzg\",\n",
      "      \"model\": \"gpt-4o-2024-05-13\",\n",
      "      \"object\": \"chat.completion\",\n",
      "      \"prompt_filter_results\": [\n",
      "        {\n",
      "          \"prompt_index\": 0,\n",
      "          \"content_filter_results\": {\n",
      "            \"hate\": {\n",
      "              \"filtered\": false,\n",
      "              \"severity\": \"safe\"\n",
      "            },\n",
      "            \"jailbreak\": {\n",
      "              \"filtered\": false,\n",
      "              \"detected\": false\n",
      "            },\n",
      "            \"self_harm\": {\n",
      "              \"filtered\": false,\n",
      "              \"severity\": \"safe\"\n",
      "            },\n",
      "            \"sexual\": {\n",
      "              \"filtered\": false,\n",
      "              \"severity\": \"safe\"\n",
      "            },\n",
      "            \"violence\": {\n",
      "              \"filtered\": false,\n",
      "              \"severity\": \"safe\"\n",
      "            }\n",
      "          }\n",
      "        }\n",
      "      ],\n",
      "      \"system_fingerprint\": \"fp_f5a70d8dc9\",\n",
      "      \"usage\": {\n",
      "        \"completion_tokens\": 231,\n",
      "        \"prompt_tokens\": 28,\n",
      "        \"total_tokens\": 259\n",
      "      }\n",
      "    },\n",
      "    \"request_id\": \"94d277cb-05e6-4a60-82f0-4863b04c07a5\",\n",
      "    \"status_code\": 200\n",
      "  },\n",
      "  \"error\": null\n",
      "}\n"
     ]
    }
   ],
   "source": [
    "import json\n",
    "\n",
    "response = client.files.content(batch_response.output_file_id)\n",
    "raw_responses = response.text.strip().split('\\n')  \n",
    "\n",
    "for raw_response in raw_responses:  \n",
    "    json_response = json.loads(raw_response)  \n",
    "    formatted_json = json.dumps(json_response, indent=2)  \n",
    "    print(formatted_json)"
   ]
  },
  {
   "cell_type": "markdown",
   "metadata": {},
   "source": [
    "### Additional batch commands"
   ]
  },
  {
   "cell_type": "markdown",
   "metadata": {},
   "source": [
    "#### Cancel batch"
   ]
  },
  {
   "cell_type": "code",
   "execution_count": null,
   "metadata": {},
   "outputs": [],
   "source": [
    "client.batches.cancel(\"batch_abc123\") # set to your batch_id for the job you want to cancel"
   ]
  },
  {
   "cell_type": "markdown",
   "metadata": {},
   "source": [
    "#### List batch"
   ]
  },
  {
   "cell_type": "code",
   "execution_count": null,
   "metadata": {},
   "outputs": [],
   "source": [
    "client.batches.list()"
   ]
  }
 ],
 "metadata": {
  "kernelspec": {
   "display_name": "Python 3",
   "language": "python",
   "name": "python3"
  },
  "language_info": {
   "codemirror_mode": {
    "name": "ipython",
    "version": 3
   },
   "file_extension": ".py",
   "mimetype": "text/x-python",
   "name": "python",
   "nbconvert_exporter": "python",
   "pygments_lexer": "ipython3",
   "version": "3.12.3"
  }
 },
 "nbformat": 4,
 "nbformat_minor": 2
}
