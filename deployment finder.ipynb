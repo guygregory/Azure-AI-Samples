{
 "cells": [
  {
   "cell_type": "markdown",
   "metadata": {},
   "source": [
    "# Deployment finder\n",
    "A script to list all the Azure OpenAI model deployments in an Azure subscription\n",
    "***\n",
    "<br><br>\n",
    "Import libraries, and load the Azure Subscription ID"
   ]
  },
  {
   "cell_type": "code",
   "execution_count": 14,
   "metadata": {},
   "outputs": [],
   "source": [
    "import os\n",
    "from azure.identity import DefaultAzureCredential\n",
    "from azure.mgmt.cognitiveservices import CognitiveServicesManagementClient\n",
    "from azure.mgmt.resource import ResourceManagementClient\n",
    "from azure.mgmt.resource import SubscriptionClient\n",
    "import pandas as pd\n",
    "from itables import show\n",
    "from dotenv import load_dotenv\n",
    "\n",
    "load_dotenv()\n",
    "\n",
    "# Get the Azure subscription ID from the .env file\n",
    "subscription_id = os.environ[\"AZURE_SUBSCRIPTION_ID\"]"
   ]
  },
  {
   "cell_type": "markdown",
   "metadata": {},
   "source": [
    "Authenticate with Azure"
   ]
  },
  {
   "cell_type": "code",
   "execution_count": 15,
   "metadata": {},
   "outputs": [],
   "source": [
    "credential = DefaultAzureCredential()"
   ]
  },
  {
   "cell_type": "markdown",
   "metadata": {},
   "source": [
    "Optionally, list all the available Azure Subscriptions IDs "
   ]
  },
  {
   "cell_type": "code",
   "execution_count": 16,
   "metadata": {},
   "outputs": [
    {
     "data": {
      "text/plain": [
       "'\\n# Create a SubscriptionClient\\nsubscriptions_client = SubscriptionClient(credential)\\n\\n# List all Azure subscriptions\\nsubscriptions = subscriptions_client.subscriptions.list()\\n\\n# Output subscription details\\nfor subscription in subscriptions:\\n    display(f\"Subscription ID: {subscription.subscription_id}, Subscription Name: {subscription.display_name}\")\\n'"
      ]
     },
     "execution_count": 16,
     "metadata": {},
     "output_type": "execute_result"
    }
   ],
   "source": [
    "\"\"\"\n",
    "# Create a SubscriptionClient\n",
    "subscriptions_client = SubscriptionClient(credential)\n",
    "\n",
    "# List all Azure subscriptions\n",
    "subscriptions = subscriptions_client.subscriptions.list()\n",
    "\n",
    "# Output subscription details\n",
    "for subscription in subscriptions:\n",
    "    display(f\"Subscription ID: {subscription.subscription_id}, Subscription Name: {subscription.display_name}\")\n",
    "\"\"\""
   ]
  },
  {
   "cell_type": "markdown",
   "metadata": {},
   "source": [
    "Create the Resource Management and Cognitive Services Management clients"
   ]
  },
  {
   "cell_type": "code",
   "execution_count": 17,
   "metadata": {},
   "outputs": [],
   "source": [
    "# Create a Cognitive Services Management client\n",
    "client = CognitiveServicesManagementClient(credential, subscription_id)\n",
    "\n",
    "# Initialize the Resource Management client\n",
    "resource_client = ResourceManagementClient(credential, subscription_id)"
   ]
  },
  {
   "cell_type": "markdown",
   "metadata": {},
   "source": [
    "Iterate through the resource groups and Azure OpenAI services to hydrate the dataframe"
   ]
  },
  {
   "cell_type": "code",
   "execution_count": 18,
   "metadata": {},
   "outputs": [],
   "source": [
    "# Initialize an empty DataFrame with the specified columns\n",
    "deployment_df = pd.DataFrame(columns=[\"Resource Group\", \"Azure OpenAI Service Name\", \"Deployment Name\", \"Model Name\", \"Version\"])\n",
    "\n",
    "# Filter for OpenAI instances and list model deployments\n",
    "for resource_group in resource_client.resource_groups.list():\n",
    "    accounts = client.accounts.list_by_resource_group(resource_group.name)  # Corrected line\n",
    "    for account in accounts:\n",
    "        if account.kind == 'OpenAI':\n",
    "            # Correctly access deployment properties using dot notation\n",
    "            deployments = client.deployments.list(resource_group.name, account.name)\n",
    "            deployment_info = [{\"deploymentname\": deployment.name, \"modelname\": deployment.properties.model.name, \"version\": deployment.properties.model.version} for deployment in deployments]\n",
    "            \n",
    "            # output deployment_info in a more readable format\n",
    "            for deployment in deployment_info:\n",
    "                #print(f\"Deployment Name: {deployment['deploymentname']}, Model Name: {deployment['modelname']}, Version: {deployment['version']}\")\n",
    "                # Inside the loop where you add rows to the DataFrame\n",
    "                new_row = pd.DataFrame([{\n",
    "                    \"Resource Group\": resource_group.name,\n",
    "                    \"Azure OpenAI Service Name\": account.name,\n",
    "                    \"Deployment Name\": deployment['deploymentname'],\n",
    "                    \"Model Name\": deployment['modelname'],\n",
    "                    \"Version\": deployment['version']\n",
    "                }])\n",
    "                \n",
    "                deployment_df = pd.concat([deployment_df, new_row], ignore_index=True)"
   ]
  },
  {
   "cell_type": "markdown",
   "metadata": {},
   "source": [
    "Display the dataframe as an interactive table"
   ]
  },
  {
   "cell_type": "code",
   "execution_count": 20,
   "metadata": {},
   "outputs": [
    {
     "data": {
      "text/html": [
       "<table id=\"itables_b828ec77_f1b1_440c_a230_9857aa5755f5\" class=\"display nowrap\" data-quarto-disable-processing=\"true\" style=\"table-layout:auto;width:auto;margin:auto;caption-side:bottom\">\n",
       "<thead>\n",
       "    <tr style=\"text-align: right;\">\n",
       "      \n",
       "      <th>Resource Group</th>\n",
       "      <th>Azure OpenAI Service Name</th>\n",
       "      <th>Deployment Name</th>\n",
       "      <th>Model Name</th>\n",
       "      <th>Version</th>\n",
       "    </tr>\n",
       "  </thead><tbody><tr>\n",
       "<td style=\"vertical-align:middle; text-align:left\">\n",
       "<div style=\"float:left; margin-right: 10px;\">\n",
       "<a href=https://mwouts.github.io/itables/><svg class=\"main-svg\" xmlns=\"http://www.w3.org/2000/svg\" xmlns:xlink=\"http://www.w3.org/1999/xlink\"\n",
       "width=\"64\" viewBox=\"0 0 500 400\" style=\"font-family: 'Droid Sans', sans-serif;\">\n",
       "    <g style=\"fill:#d9d7fc\">\n",
       "        <path d=\"M100,400H500V357H100Z\" />\n",
       "        <path d=\"M100,300H400V257H100Z\" />\n",
       "        <path d=\"M0,200H400V157H0Z\" />\n",
       "        <path d=\"M100,100H500V57H100Z\" />\n",
       "        <path d=\"M100,350H500V307H100Z\" />\n",
       "        <path d=\"M100,250H400V207H100Z\" />\n",
       "        <path d=\"M0,150H400V107H0Z\" />\n",
       "        <path d=\"M100,50H500V7H100Z\" />\n",
       "    </g>\n",
       "    <g style=\"fill:#1a1366;stroke:#1a1366;\">\n",
       "   <rect x=\"100\" y=\"7\" width=\"400\" height=\"43\">\n",
       "    <animate\n",
       "      attributeName=\"width\"\n",
       "      values=\"0;400;0\"\n",
       "      dur=\"5s\"\n",
       "      repeatCount=\"indefinite\" />\n",
       "      <animate\n",
       "      attributeName=\"x\"\n",
       "      values=\"100;100;500\"\n",
       "      dur=\"5s\"\n",
       "      repeatCount=\"indefinite\" />\n",
       "  </rect>\n",
       "        <rect x=\"0\" y=\"107\" width=\"400\" height=\"43\">\n",
       "    <animate\n",
       "      attributeName=\"width\"\n",
       "      values=\"0;400;0\"\n",
       "      dur=\"3.5s\"\n",
       "      repeatCount=\"indefinite\" />\n",
       "    <animate\n",
       "      attributeName=\"x\"\n",
       "      values=\"0;0;400\"\n",
       "      dur=\"3.5s\"\n",
       "      repeatCount=\"indefinite\" />\n",
       "  </rect>\n",
       "        <rect x=\"100\" y=\"207\" width=\"300\" height=\"43\">\n",
       "    <animate\n",
       "      attributeName=\"width\"\n",
       "      values=\"0;300;0\"\n",
       "      dur=\"3s\"\n",
       "      repeatCount=\"indefinite\" />\n",
       "    <animate\n",
       "      attributeName=\"x\"\n",
       "      values=\"100;100;400\"\n",
       "      dur=\"3s\"\n",
       "      repeatCount=\"indefinite\" />\n",
       "  </rect>\n",
       "        <rect x=\"100\" y=\"307\" width=\"400\" height=\"43\">\n",
       "    <animate\n",
       "      attributeName=\"width\"\n",
       "      values=\"0;400;0\"\n",
       "      dur=\"4s\"\n",
       "      repeatCount=\"indefinite\" />\n",
       "      <animate\n",
       "      attributeName=\"x\"\n",
       "      values=\"100;100;500\"\n",
       "      dur=\"4s\"\n",
       "      repeatCount=\"indefinite\" />\n",
       "  </rect>\n",
       "        <g style=\"fill:transparent;stroke-width:8; stroke-linejoin:round\" rx=\"5\">\n",
       "            <g transform=\"translate(45 50) rotate(-45)\">\n",
       "                <circle r=\"33\" cx=\"0\" cy=\"0\" />\n",
       "                <rect x=\"-8\" y=\"32\" width=\"16\" height=\"30\" />\n",
       "            </g>\n",
       "\n",
       "            <g transform=\"translate(450 152)\">\n",
       "                <polyline points=\"-15,-20 -35,-20 -35,40 25,40 25,20\" />\n",
       "                <rect x=\"-15\" y=\"-40\" width=\"60\" height=\"60\" />\n",
       "            </g>\n",
       "\n",
       "            <g transform=\"translate(50 352)\">\n",
       "                <polygon points=\"-35,-5 0,-40 35,-5\" />\n",
       "                <polygon points=\"-35,10 0,45 35,10\" />\n",
       "            </g>\n",
       "\n",
       "            <g transform=\"translate(75 250)\">\n",
       "                <polyline points=\"-30,30 -60,0 -30,-30\" />\n",
       "                <polyline points=\"0,30 -30,0 0,-30\" />\n",
       "            </g>\n",
       "\n",
       "            <g transform=\"translate(425 250) rotate(180)\">\n",
       "                <polyline points=\"-30,30 -60,0 -30,-30\" />\n",
       "                <polyline points=\"0,30 -30,0 0,-30\" />\n",
       "            </g>\n",
       "        </g>\n",
       "    </g>\n",
       "</svg>\n",
       "</a>\n",
       "</div>\n",
       "<div>\n",
       "Loading ITables v2.1.4 from the <code>init_notebook_mode</code> cell...\n",
       "(need <a href=https://mwouts.github.io/itables/troubleshooting.html>help</a>?)</td>\n",
       "</div>\n",
       "</tr></tbody>\n",
       "\n",
       "</table>\n",
       "<script type=\"module\">\n",
       "    const { DataTable, jQuery: $ } = await import(window._datatables_src_for_itables_2_1_4);\n",
       "\n",
       "    document.querySelectorAll(\"#itables_b828ec77_f1b1_440c_a230_9857aa5755f5:not(.dataTable)\").forEach(table => {\n",
       "        // Define the table data\n",
       "        const data = [[\"AOAIGgUkRg\", \"AOAIGgWestEurope\", \"whisper\", \"whisper\", \"001\"], [\"AOAIGgUkRg\", \"AOAIGgUk\", \"gpt-35-turbo\", \"gpt-35-turbo\", \"1106\"], [\"AOAIGgUkRg\", \"AOAIGgUk\", \"gpt-4-turbo\", \"gpt-4\", \"1106-Preview\"], [\"AOAIGgUkRg\", \"AOAIGgUk\", \"gpt-4o\", \"gpt-4o\", \"2024-05-13\"], [\"AOAIGgSweden\", \"AOAIGgSwedenCentral\", \"Dalle3\", \"dall-e-3\", \"3.0\"], [\"AOAIGgSweden\", \"AOAIGgSwedenCentral\", \"gpt-4-1106-preview\", \"gpt-4\", \"1106-Preview\"], [\"AOAIGgSweden\", \"AOAIGgSwedenCentral\", \"gpt-4o\", \"gpt-4o\", \"2024-05-13\"], [\"OAIRg\", \"AOAIGgEastUS\", \"gpt-4\", \"gpt-4\", \"0613\"], [\"OAIRg\", \"AOAIGgEastUS\", \"gpt-35-turbo\", \"gpt-35-turbo\", \"0301\"], [\"OAIRg\", \"AOAIGgEastUS\", \"gpt-4-32k\", \"gpt-4-32k\", \"0613\"], [\"OAIRg\", \"AOAIGgEastUS\", \"Dalle3\", \"dall-e-3\", \"3.0\"], [\"OAIRg\", \"AOAIGgEastUS\", \"gpt-4o\", \"gpt-4o\", \"2024-05-13\"], [\"OAIRg\", \"AOAIGgFrance\", \"gpt-35-turbo-16k\", \"gpt-35-turbo-16k\", \"0613\"], [\"OAIRg\", \"AOAIGgFrance\", \"gpt-4-32k\", \"gpt-4-32k\", \"0613\"], [\"OAIRg\", \"AOAIGgFrance\", \"gpt-35-turbo\", \"gpt-35-turbo\", \"0613\"], [\"OAIRg\", \"AOAIGgFrance\", \"gpt-4\", \"gpt-4\", \"0613\"], [\"OAIRg\", \"AOAIGgFrance\", \"gpt-4-1106-preview\", \"gpt-4\", \"1106-Preview\"]];\n",
       "\n",
       "        // Define the dt_args\n",
       "        let dt_args = {\"paging\": false, \"layout\": {\"topStart\": \"pageLength\", \"topEnd\": \"search\", \"bottomStart\": \"info\", \"bottomEnd\": \"paging\"}, \"order\": []};\n",
       "        dt_args[\"data\"] = data;\n",
       "\n",
       "        \n",
       "        new DataTable(table, dt_args);\n",
       "    });\n",
       "</script>\n"
      ],
      "text/plain": [
       "<IPython.core.display.HTML object>"
      ]
     },
     "metadata": {},
     "output_type": "display_data"
    }
   ],
   "source": [
    "show(deployment_df, paging=False)"
   ]
  }
 ],
 "metadata": {
  "kernelspec": {
   "display_name": "Python 3",
   "language": "python",
   "name": "python3"
  },
  "language_info": {
   "codemirror_mode": {
    "name": "ipython",
    "version": 3
   },
   "file_extension": ".py",
   "mimetype": "text/x-python",
   "name": "python",
   "nbconvert_exporter": "python",
   "pygments_lexer": "ipython3",
   "version": "3.12.3"
  }
 },
 "nbformat": 4,
 "nbformat_minor": 2
}
