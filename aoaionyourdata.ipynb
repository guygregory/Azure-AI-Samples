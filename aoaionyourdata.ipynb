{
 "cells": [
  {
   "cell_type": "code",
   "execution_count": 5,
   "metadata": {},
   "outputs": [],
   "source": [
    "question = \"List Microsoft's five FY25 priorities\""
   ]
  },
  {
   "cell_type": "code",
   "execution_count": 6,
   "metadata": {},
   "outputs": [
    {
     "data": {
      "text/markdown": [
       "Microsoft's five FY25 priorities are:\n",
       "\n",
       "1. **Biz Apps & Copilot**: This includes the integration of Copilot across various business applications to enhance productivity and user experience [doc2].\n",
       "2. **MCAPS Priorities**: These priorities focus on ensuring AI design wins with every customer, securing the cyber foundation of every customer, and driving core execution in M365 [doc2].\n",
       "3. **Migrations**: Emphasizing the importance of migrations, particularly for SAP and other critical systems, to modernize and optimize business operations .\n",
       "4. **AI Opportunity**: Leveraging AI to increase value and manage costs effectively, positioning AI as a central component of future business strategies [doc2].\n",
       "5. **Role of AI in the Business of the Future**: Focusing on how AI can transform personal, group, and process aspects of business operations [doc2]."
      ],
      "text/plain": [
       "<IPython.core.display.Markdown object>"
      ]
     },
     "metadata": {},
     "output_type": "display_data"
    },
    {
     "data": {
      "text/markdown": [
       "*Citations:*"
      ],
      "text/plain": [
       "<IPython.core.display.Markdown object>"
      ]
     },
     "metadata": {},
     "output_type": "display_data"
    },
    {
     "data": {
      "text/markdown": [
       "*[doc2] FY25 Business Applications Partner Playbook.pdf*"
      ],
      "text/plain": [
       "<IPython.core.display.Markdown object>"
      ]
     },
     "metadata": {},
     "output_type": "display_data"
    }
   ],
   "source": [
    "import os\n",
    "import openai\n",
    "from dotenv import load_dotenv\n",
    "from IPython.display import display, Markdown\n",
    "\n",
    "load_dotenv()\n",
    "\n",
    "endpoint = os.environ[\"AZURE_OPENAI_API_ENDPOINT\"]\n",
    "deployment = os.environ[\"AZURE_OPENAI_API_MODEL\"]\n",
    "key = os.environ[\"AZURE_OPENAI_API_KEY\"]\n",
    "version = os.environ[\"AZURE_OPENAI_API_VERSION\"]\n",
    "\n",
    "search_endpoint = os.environ[\"AZURE_AI_SEARCH_ENDPOINT\"]\n",
    "search_index_name = os.environ[\"AZURE_AI_SEARCH_INDEX\"]\n",
    "search_key = os.environ[\"AZURE_AI_SEARCH_API_KEY\"]\n",
    "\n",
    "client = openai.AzureOpenAI(\n",
    "    azure_endpoint=endpoint,\n",
    "    api_key=key,\n",
    "    api_version=version,\n",
    ")\n",
    "\n",
    "completion = client.chat.completions.create(\n",
    "    model=deployment,\n",
    "    messages=[\n",
    "        {\n",
    "            \"role\": \"user\",\n",
    "            \"content\": question,\n",
    "        },\n",
    "    ],\n",
    "    extra_body={\n",
    "        \"data_sources\":[\n",
    "            {\n",
    "                \"type\": \"azure_search\",\n",
    "                \"parameters\": {\n",
    "                    \"endpoint\": search_endpoint,\n",
    "                    \"index_name\": search_index_name,\n",
    "                    \"authentication\": {\n",
    "                        \"type\": \"api_key\",\n",
    "                        \"key\": search_key,\n",
    "                    }\n",
    "                }\n",
    "            }\n",
    "        ],\n",
    "    }\n",
    ")\n",
    "\n",
    "#print(completion.model_dump_json(indent=2))\n",
    "\n",
    "content = completion.choices[0].message.content\n",
    "display(Markdown(content))\n",
    "\n",
    "display(Markdown(\"*Citations:*\"))\n",
    "for i in range(len(completion.choices[0].message.context['citations'])):\n",
    "    # If content includes the string 'doc' then display the citation\n",
    "    if '[doc'+str(i+1)+']' in content:\n",
    "        display(Markdown('*[doc'+str(i+1)+'] '+completion.choices[0].message.context['citations'][i]['filepath']+'*'))"
   ]
  }
 ],
 "metadata": {
  "kernelspec": {
   "display_name": "Python 3",
   "language": "python",
   "name": "python3"
  },
  "language_info": {
   "codemirror_mode": {
    "name": "ipython",
    "version": 3
   },
   "file_extension": ".py",
   "mimetype": "text/x-python",
   "name": "python",
   "nbconvert_exporter": "python",
   "pygments_lexer": "ipython3",
   "version": "3.12.3"
  }
 },
 "nbformat": 4,
 "nbformat_minor": 2
}
